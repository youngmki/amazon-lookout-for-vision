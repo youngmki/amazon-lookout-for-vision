{
 "cells": [
  {
   "cell_type": "markdown",
   "metadata": {},
   "source": [
    "# Amazon Lookout for Vision Python SDK\n",
    "\n",
    "이 노트북에서는 Amazon Lookout for Vision Python SDK에 대해 설명합니다. 해당 서비스와 상호 작용하는 프로그래밍 방식을 제공하고 아래와 같이 서비스를 보완하는 다양한 Helper 함수를 추가합니다.\n",
    "\n",
    "* Manifest 파일 생성하기\n",
    "* Manifest 파일을 S3에 푸시하기\n",
    "* 이미지 크기가 서비스 규격과 맞는지 확인하기\n",
    "* 이미지 크기를 조정해야하는지 이미지 크기 확인하기\n",
    "* 최적 크기로 알맞게 이미지 크기 조정하기\n",
    "* 적절한 구조로 S3에 이미지 업로드하기\n",
    "\n",
    "**필요 조건**\n",
    "\n",
    "로컬 인스턴스에 이미지가 존재해야 합니다. 비정상 이미지는 *bad*라는 폴더에, 정상 이미지는 *good*라는 폴더에 저장해야합니다. 또한 허용되는 포맷은 jpeg, jpg와 png입니다. 다음 URL은 훈련과 검증을 위한 이미지 할당량 / 제한을 설명합니다. --> https://docs.aws.amazon.com/lookout-for-vision/latest/developer-guide/limits.html \n",
    "\n",
    "## 모델 훈련하기\n",
    "\n",
    "먼저 필요한 몇 가지 일반 변수를 설정해 보겠습니다.\n",
    "\n",
    "* input_bucket: 모델 훈련을 위해 이미지를 보관할 S3 버킷\n",
    "* project_name: Amazon Lookout for Vision 프로젝트의 고유한 이름\n",
    "* model_version: 배포할 모델 버전 (참고: 처음 시작할 경우 \"1\"이 기본값) \n",
    "* output_bucket: 모델과 추론 결과가 저장되는 버킷 (input_bucket과 동일할 수 있음) \n",
    "* input_prefix: S3에서 추론을 실행하는 경우 이것은 예측하려는 이미지의 키 값입니다\n",
    "* output_prefix: 이것은 예측값이 저장될 S3 키 값입니다"
   ]
  },
  {
   "cell_type": "code",
   "execution_count": 1,
   "metadata": {},
   "outputs": [],
   "source": [
    "# 훈련 & 추론\n",
    "input_bucket = \"lfv-s3-bucket-<youralias>-MMDDYY-v1\"\n",
    "project_name = \"circuitproject\"\n",
    "model_version = \"1\" # 최초로 시작할 경우 이것을 1로 두세요.\n",
    "# 추론\n",
    "output_bucket = input_bucket # INPUT_BUCKET과 동일할 수 있습니다.\n",
    "input_prefix = \"extra_images/\" # batch_predict에서 사용됩니다.\n",
    "output_prefix = input_prefix # batch_predict에서 사용됩니다."
   ]
  },
  {
   "cell_type": "code",
   "execution_count": 2,
   "metadata": {},
   "outputs": [],
   "source": [
    "# pip를 사용하여 SDK를 설치합니다.\n",
    "# !pip install lookoutvision"
   ]
  },
  {
   "cell_type": "code",
   "execution_count": 3,
   "metadata": {},
   "outputs": [],
   "source": [
    "# 시작하는데 필요한 모든 라이브러리를 임포트합니다.\n",
    "import os\n",
    "import boto3\n",
    "import pandas as pd\n",
    "\n",
    "from lookoutvision.image import Image\n",
    "from lookoutvision.manifest import Manifest\n",
    "from lookoutvision.lookoutvision import LookoutForVision\n",
    "from lookoutvision.metrics import Metrics"
   ]
  },
  {
   "cell_type": "code",
   "execution_count": 4,
   "metadata": {},
   "outputs": [],
   "source": [
    "def upload_directory(s3_client, path, bucket, s3_path=\"\"):\n",
    "    for root, dirs, files in os.walk(path):\n",
    "        for file in files:\n",
    "            s3_client.upload_file(os.path.join(root, file), bucket, s3_path + file)"
   ]
  },
  {
   "cell_type": "markdown",
   "metadata": {},
   "source": [
    "필요한 클래스를 인스턴스화하세요.\n",
    "\n",
    "* 로컬 이미지와 상호 작용할 Image\n",
    "* Manifest 파일을 생성하고 푸시할 Manifest\n",
    "* 모델 메트릭을 살펴보고 비교할 Metrics\n",
    "* 서비스와 상호 작용하는 기본 클래스 LookoutForVision "
   ]
  },
  {
   "cell_type": "code",
   "execution_count": 5,
   "metadata": {},
   "outputs": [],
   "source": [
    "s3_client = boto3.client(\"s3\")\n",
    "_ = s3_client.create_bucket(Bucket=input_bucket)"
   ]
  },
  {
   "cell_type": "code",
   "execution_count": 6,
   "metadata": {},
   "outputs": [],
   "source": [
    "img = Image()"
   ]
  },
  {
   "cell_type": "code",
   "execution_count": 7,
   "metadata": {},
   "outputs": [],
   "source": [
    "mft = Manifest(\n",
    "    bucket=input_bucket\n",
    "    , s3_path=project_name\n",
    "    , datasets=[\"training\", \"validation\"])"
   ]
  },
  {
   "cell_type": "code",
   "execution_count": 8,
   "metadata": {},
   "outputs": [
    {
     "name": "stdout",
     "output_type": "stream",
     "text": [
      "Project circuitproject does not exist yet...use the create_project() method to set up your first project\n"
     ]
    }
   ],
   "source": [
    "l4v = LookoutForVision(project_name=project_name)"
   ]
  },
  {
   "cell_type": "code",
   "execution_count": 9,
   "metadata": {},
   "outputs": [],
   "source": [
    "met = Metrics(project_name=project_name)"
   ]
  },
  {
   "cell_type": "code",
   "execution_count": 10,
   "metadata": {},
   "outputs": [
    {
     "name": "stdout",
     "output_type": "stream",
     "text": [
      "Creating the project: circuitproject\n"
     ]
    }
   ],
   "source": [
    "# 프로젝트가 존재하지 않는 경우 생성하세요.\n",
    "p = l4v.create_project()\n",
    "# print(p)"
   ]
  },
  {
   "cell_type": "code",
   "execution_count": 11,
   "metadata": {},
   "outputs": [],
   "source": [
    "!mkdir -p good && mkdir -p bad\n",
    "\n",
    "!cp -R circuitboard/train/normal/ good/\n",
    "!cp -R circuitboard/test/normal/ good/\n",
    "\n",
    "!cp -R circuitboard/train/anomaly/ bad/\n",
    "!cp -R circuitboard/test/anomaly/ bad/"
   ]
  },
  {
   "cell_type": "code",
   "execution_count": 12,
   "metadata": {},
   "outputs": [
    {
     "name": "stdout",
     "output_type": "stream",
     "text": [
      "{'good': {'no_of_images': 40, 'compliant_images': 40, 'compliant': True}, 'bad': {'no_of_images': 40, 'compliant_images': 40, 'compliant': True}}\n"
     ]
    }
   ],
   "source": [
    "# 로컬 이미지가 서비스 규격과 맞는지 확인하세요 \n",
    "sizes = img.check_image_sizes(verbose=False)\n",
    "print(sizes)"
   ]
  },
  {
   "cell_type": "code",
   "execution_count": 13,
   "metadata": {},
   "outputs": [
    {
     "name": "stdout",
     "output_type": "stream",
     "text": [
      "{'good': {'no_of_images': 40, 'compliant': 40, 'status': 'Image sizes are equal!', 'min_image_shape': (2667, 4000, 3), 'image_metadata': {'good/test-normal_8.jpg': (2667, 4000, 3), 'good/test-normal_9.jpg': (2667, 4000, 3), 'good/train-normal_14.jpg': (2667, 4000, 3), 'good/test-normal_11.jpg': (2667, 4000, 3), 'good/train-normal_5.jpg': (2667, 4000, 3), 'good/train-normal_4.jpg': (2667, 4000, 3), 'good/test-normal_10.jpg': (2667, 4000, 3), 'good/train-normal_15.jpg': (2667, 4000, 3), 'good/train-normal_17.jpg': (2667, 4000, 3), 'good/test-normal_12.jpg': (2667, 4000, 3), 'good/train-normal_6.jpg': (2667, 4000, 3), 'good/train-normal_7.jpg': (2667, 4000, 3), 'good/test-normal_13.jpg': (2667, 4000, 3), 'good/train-normal_16.jpg': (2667, 4000, 3), 'good/train-normal_12.jpg': (2667, 4000, 3), 'good/test-normal_17.jpg': (2667, 4000, 3), 'good/train-normal_3.jpg': (2667, 4000, 3), 'good/train-normal_2.jpg': (2667, 4000, 3), 'good/test-normal_16.jpg': (2667, 4000, 3), 'good/train-normal_13.jpg': (2667, 4000, 3), 'good/train-normal_11.jpg': (2667, 4000, 3), 'good/test-normal_14.jpg': (2667, 4000, 3), 'good/train-normal_1.jpg': (2667, 4000, 3), 'good/test-normal_15.jpg': (2667, 4000, 3), 'good/train-normal_10.jpg': (2667, 4000, 3), 'good/test-normal_18.jpg': (2667, 4000, 3), 'good/test-normal_19.jpg': (2667, 4000, 3), 'good/train-normal_20.jpg': (2667, 4000, 3), 'good/train-normal_18.jpg': (2667, 4000, 3), 'good/train-normal_9.jpg': (2667, 4000, 3), 'good/train-normal_8.jpg': (2667, 4000, 3), 'good/test-normal_20.jpg': (2667, 4000, 3), 'good/train-normal_19.jpg': (2667, 4000, 3), 'good/test-normal_7.jpg': (2667, 4000, 3), 'good/test-normal_6.jpg': (2667, 4000, 3), 'good/test-normal_4.jpg': (2667, 4000, 3), 'good/test-normal_5.jpg': (2667, 4000, 3), 'good/test-normal_1.jpg': (2667, 4000, 3), 'good/test-normal_2.jpg': (2667, 4000, 3), 'good/test-normal_3.jpg': (2667, 4000, 3)}}, 'bad': {'no_of_images': 40, 'compliant': 40, 'status': 'Image sizes are equal!', 'min_image_shape': (2667, 4000, 3), 'image_metadata': {'bad/train-anomaly_20.jpg': (2667, 4000, 3), 'bad/test-anomaly_19.jpg': (2667, 4000, 3), 'bad/test-anomaly_18.jpg': (2667, 4000, 3), 'bad/train-anomaly_19.jpg': (2667, 4000, 3), 'bad/test-anomaly_20.jpg': (2667, 4000, 3), 'bad/train-anomaly_18.jpg': (2667, 4000, 3), 'bad/test-anomaly_9.jpg': (2667, 4000, 3), 'bad/test-anomaly_8.jpg': (2667, 4000, 3), 'bad/train-anomaly_9.jpg': (2667, 4000, 3), 'bad/train-anomaly_8.jpg': (2667, 4000, 3), 'bad/train-anomaly_6.jpg': (2667, 4000, 3), 'bad/test-anomaly_3.jpg': (2667, 4000, 3), 'bad/test-anomaly_2.jpg': (2667, 4000, 3), 'bad/train-anomaly_7.jpg': (2667, 4000, 3), 'bad/train-anomaly_5.jpg': (2667, 4000, 3), 'bad/test-anomaly_1.jpg': (2667, 4000, 3), 'bad/train-anomaly_4.jpg': (2667, 4000, 3), 'bad/test-anomaly_5.jpg': (2667, 4000, 3), 'bad/test-anomaly_4.jpg': (2667, 4000, 3), 'bad/train-anomaly_1.jpg': (2667, 4000, 3), 'bad/train-anomaly_3.jpg': (2667, 4000, 3), 'bad/test-anomaly_6.jpg': (2667, 4000, 3), 'bad/test-anomaly_7.jpg': (2667, 4000, 3), 'bad/train-anomaly_2.jpg': (2667, 4000, 3), 'bad/train-anomaly_15.jpg': (2667, 4000, 3), 'bad/test-anomaly_10.jpg': (2667, 4000, 3), 'bad/train-anomaly_14.jpg': (2667, 4000, 3), 'bad/test-anomaly_11.jpg': (2667, 4000, 3), 'bad/test-anomaly_13.jpg': (2667, 4000, 3), 'bad/train-anomaly_16.jpg': (2667, 4000, 3), 'bad/test-anomaly_12.jpg': (2667, 4000, 3), 'bad/train-anomaly_17.jpg': (2667, 4000, 3), 'bad/train-anomaly_13.jpg': (2667, 4000, 3), 'bad/test-anomaly_16.jpg': (2667, 4000, 3), 'bad/train-anomaly_12.jpg': (2667, 4000, 3), 'bad/test-anomaly_17.jpg': (2667, 4000, 3), 'bad/test-anomaly_15.jpg': (2667, 4000, 3), 'bad/train-anomaly_10.jpg': (2667, 4000, 3), 'bad/test-anomaly_14.jpg': (2667, 4000, 3), 'bad/train-anomaly_11.jpg': (2667, 4000, 3)}}, 'shape_recommendation': (2667, 4000, 3)}\n"
     ]
    }
   ],
   "source": [
    "# 모든 이미지 크기가 동일한지 확인하세요\n",
    "shapes = img.check_image_shapes(verbose=True)\n",
    "print(shapes)"
   ]
  },
  {
   "cell_type": "code",
   "execution_count": 14,
   "metadata": {},
   "outputs": [
    {
     "name": "stdout",
     "output_type": "stream",
     "text": [
      "No rescaling needed!\n",
      "{'rescaled_good': 'Ok', 'rescaled_bad': 'Ok'}\n"
     ]
    }
   ],
   "source": [
    "# 만약 서비스 규격과 맞지 않거나 모든 이미지 크기가 동일하지 않다면 조정하세요.\n",
    "# 참고: 접두사를 꼭 지정할 필요 없습니다. 지정할 경우 신규 폴더가 해당 명칭에 맞게 생성됩니다.\n",
    "# rescaled_good과 rescaled_bad, 접두사가 없으면 원본 이미지를 덮어 씁니다.\n",
    "resc = img.rescale(prefix=\"rescaled_\")\n",
    "print(resc)"
   ]
  },
  {
   "cell_type": "code",
   "execution_count": 15,
   "metadata": {},
   "outputs": [],
   "source": [
    "# 크기를 조정한 폴더로 재확인하세요. (조정한 경우)\n",
    "# sizes = img.check_image_sizes(prefix=\"rescaled_\", verbose=False)\n",
    "# print(sizes)"
   ]
  },
  {
   "cell_type": "code",
   "execution_count": 16,
   "metadata": {},
   "outputs": [],
   "source": [
    "# 크기가 조정한 폴더로 다시 확인하세요. (조정한 경우) \n",
    "# shapes = img.check_image_shapes(prefix=\"rescaled_\", verbose=True)\n",
    "# print(shapes)"
   ]
  },
  {
   "cell_type": "markdown",
   "metadata": {},
   "source": [
    "이미지를 준비하고 모두 동일한 크기로 만들고 서비스 규격에 맞춘 다음 S3 버킷에 업로드할 수 있습니다. Image() 클래스가 적절히 업로드하므로 더 이상 구조에 신경쓸 필요 없습니다. "
   ]
  },
  {
   "cell_type": "code",
   "execution_count": 17,
   "metadata": {},
   "outputs": [],
   "source": [
    "_ = img.upload_from_local(\n",
    "    bucket=input_bucket\n",
    "    , s3_path=project_name\n",
    "    , train_and_test=True\n",
    "    , test_split=0.5\n",
    "    , prefix=\"\") "
   ]
  },
  {
   "cell_type": "markdown",
   "metadata": {},
   "source": [
    "이제 이미지를 S3에 저장했므로 Manifest() 클래스를 사용하여 Manifest 파일을 생성하고 이미지 폴더를 저장한, 동일한 S3 위치에 푸시할 수 있습니다."
   ]
  },
  {
   "cell_type": "code",
   "execution_count": 18,
   "metadata": {},
   "outputs": [],
   "source": [
    "mft_resp = mft.push_manifests()\n",
    "# print(mft_resp)"
   ]
  },
  {
   "cell_type": "markdown",
   "metadata": {},
   "source": [
    "S3의 Manifest 파일을 기반으로 Lookout for Vision 데이터셋을 생성합니다"
   ]
  },
  {
   "cell_type": "code",
   "execution_count": 19,
   "metadata": {},
   "outputs": [
    {
     "name": "stdout",
     "output_type": "stream",
     "text": [
      "Creating dataset(s): --!\n",
      "{'training': {'DatasetType': 'train', 'CreationTimestamp': datetime.datetime(2021, 4, 9, 16, 42, 37, 124000, tzinfo=tzlocal()), 'Status': 'CREATE_COMPLETE', 'StatusMessage': 'Dataset created.'}, 'validation': {'DatasetType': 'test', 'CreationTimestamp': datetime.datetime(2021, 4, 9, 16, 42, 37, 383000, tzinfo=tzlocal()), 'Status': 'CREATE_COMPLETE', 'StatusMessage': 'Dataset created.'}}\n"
     ]
    }
   ],
   "source": [
    "dsets = l4v.create_datasets(mft_resp, wait=True)\n",
    "print(dsets)"
   ]
  },
  {
   "cell_type": "markdown",
   "metadata": {},
   "source": [
    "모델을 훈련할 준비가 되었습니다."
   ]
  },
  {
   "cell_type": "code",
   "execution_count": 20,
   "metadata": {},
   "outputs": [
    {
     "name": "stdout",
     "output_type": "stream",
     "text": [
      "Model training started: ----------------------------------------!\n"
     ]
    }
   ],
   "source": [
    "_ = l4v.fit(\n",
    "    output_bucket=output_bucket\n",
    "    , model_prefix=\"mymodel_\"\n",
    "    , wait=True)"
   ]
  },
  {
   "cell_type": "markdown",
   "metadata": {},
   "source": [
    "그리고 최종 배포합시다."
   ]
  },
  {
   "cell_type": "code",
   "execution_count": 21,
   "metadata": {},
   "outputs": [
    {
     "name": "stdout",
     "output_type": "stream",
     "text": [
      "Model will be hosted now\n",
      "---------!\n",
      "Your model is now hosted!\n"
     ]
    }
   ],
   "source": [
    "_ = l4v.deploy(\n",
    "    model_version=model_version\n",
    "    , wait=True)"
   ]
  },
  {
   "cell_type": "markdown",
   "metadata": {},
   "source": [
    "## 모델 메트릭 표시하기 \n",
    "\n",
    "모델 메트릭을 확인할 때 두 가지 유형의 *Metrics* 클래스를 사용할 수 있습니다.\n",
    "\n",
    "* 모델 한 개에 대해 메트릭을 표시하거나\n",
    "* 동일한 프로젝트의 모든 모델에 대한 메트릭을 표시합니다."
   ]
  },
  {
   "cell_type": "code",
   "execution_count": 22,
   "metadata": {},
   "outputs": [
    {
     "data": {
      "text/html": [
       "<div>\n",
       "<style scoped>\n",
       "    .dataframe tbody tr th:only-of-type {\n",
       "        vertical-align: middle;\n",
       "    }\n",
       "\n",
       "    .dataframe tbody tr th {\n",
       "        vertical-align: top;\n",
       "    }\n",
       "\n",
       "    .dataframe thead th {\n",
       "        text-align: right;\n",
       "    }\n",
       "</style>\n",
       "<table border=\"1\" class=\"dataframe\">\n",
       "  <thead>\n",
       "    <tr style=\"text-align: right;\">\n",
       "      <th></th>\n",
       "      <th>CreationTimestamp</th>\n",
       "      <th>Status</th>\n",
       "      <th>StatusMessage</th>\n",
       "      <th>Performance</th>\n",
       "    </tr>\n",
       "  </thead>\n",
       "  <tbody>\n",
       "    <tr>\n",
       "      <th>F1Score</th>\n",
       "      <td>2021-04-09 16:44:23.114000+09:00</td>\n",
       "      <td>HOSTED</td>\n",
       "      <td>The model is running.</td>\n",
       "      <td>0.9</td>\n",
       "    </tr>\n",
       "    <tr>\n",
       "      <th>Precision</th>\n",
       "      <td>2021-04-09 16:44:23.114000+09:00</td>\n",
       "      <td>HOSTED</td>\n",
       "      <td>The model is running.</td>\n",
       "      <td>0.9</td>\n",
       "    </tr>\n",
       "    <tr>\n",
       "      <th>Recall</th>\n",
       "      <td>2021-04-09 16:44:23.114000+09:00</td>\n",
       "      <td>HOSTED</td>\n",
       "      <td>The model is running.</td>\n",
       "      <td>0.9</td>\n",
       "    </tr>\n",
       "  </tbody>\n",
       "</table>\n",
       "</div>"
      ],
      "text/plain": [
       "                         CreationTimestamp  Status          StatusMessage  \\\n",
       "F1Score   2021-04-09 16:44:23.114000+09:00  HOSTED  The model is running.   \n",
       "Precision 2021-04-09 16:44:23.114000+09:00  HOSTED  The model is running.   \n",
       "Recall    2021-04-09 16:44:23.114000+09:00  HOSTED  The model is running.   \n",
       "\n",
       "           Performance  \n",
       "F1Score            0.9  \n",
       "Precision          0.9  \n",
       "Recall             0.9  "
      ]
     },
     "execution_count": 22,
     "metadata": {},
     "output_type": "execute_result"
    }
   ],
   "source": [
    "# 모델 한 개 \n",
    "columns = [\"CreationTimestamp\", \"Status\", \"StatusMessage\", \"Performance\"]\n",
    "met.describe_model(model_version=model_version)[columns]"
   ]
  },
  {
   "cell_type": "code",
   "execution_count": 23,
   "metadata": {},
   "outputs": [
    {
     "data": {
      "text/html": [
       "<div>\n",
       "<style scoped>\n",
       "    .dataframe tbody tr th:only-of-type {\n",
       "        vertical-align: middle;\n",
       "    }\n",
       "\n",
       "    .dataframe tbody tr th {\n",
       "        vertical-align: top;\n",
       "    }\n",
       "\n",
       "    .dataframe thead th {\n",
       "        text-align: right;\n",
       "    }\n",
       "</style>\n",
       "<table border=\"1\" class=\"dataframe\">\n",
       "  <thead>\n",
       "    <tr style=\"text-align: right;\">\n",
       "      <th></th>\n",
       "      <th>CreationTimestamp</th>\n",
       "      <th>Status</th>\n",
       "      <th>StatusMessage</th>\n",
       "      <th>Performance</th>\n",
       "    </tr>\n",
       "  </thead>\n",
       "  <tbody>\n",
       "    <tr>\n",
       "      <th>F1Score</th>\n",
       "      <td>2021-04-09 16:44:23.114000+09:00</td>\n",
       "      <td>HOSTED</td>\n",
       "      <td>The model is running.</td>\n",
       "      <td>0.9</td>\n",
       "    </tr>\n",
       "    <tr>\n",
       "      <th>Precision</th>\n",
       "      <td>2021-04-09 16:44:23.114000+09:00</td>\n",
       "      <td>HOSTED</td>\n",
       "      <td>The model is running.</td>\n",
       "      <td>0.9</td>\n",
       "    </tr>\n",
       "    <tr>\n",
       "      <th>Recall</th>\n",
       "      <td>2021-04-09 16:44:23.114000+09:00</td>\n",
       "      <td>HOSTED</td>\n",
       "      <td>The model is running.</td>\n",
       "      <td>0.9</td>\n",
       "    </tr>\n",
       "  </tbody>\n",
       "</table>\n",
       "</div>"
      ],
      "text/plain": [
       "                         CreationTimestamp  Status          StatusMessage  \\\n",
       "F1Score   2021-04-09 16:44:23.114000+09:00  HOSTED  The model is running.   \n",
       "Precision 2021-04-09 16:44:23.114000+09:00  HOSTED  The model is running.   \n",
       "Recall    2021-04-09 16:44:23.114000+09:00  HOSTED  The model is running.   \n",
       "\n",
       "           Performance  \n",
       "F1Score            0.9  \n",
       "Precision          0.9  \n",
       "Recall             0.9  "
      ]
     },
     "execution_count": 23,
     "metadata": {},
     "output_type": "execute_result"
    }
   ],
   "source": [
    "# 동일한 프로젝트의 모든 모델\n",
    "met.describe_models()[columns]"
   ]
  },
  {
   "cell_type": "markdown",
   "metadata": {},
   "source": [
    "## 추론"
   ]
  },
  {
   "cell_type": "markdown",
   "metadata": {},
   "source": [
    "### Batch Transform 기능을 사용하면 Amazon S3 / 로컬에 저장된 데이터셋에 대해 예측을 실행할 수 있습니다. \n",
    "배치 변환 작업은 배치 데이터셋에서 추론을 실행하고 그에 따른 추론 결과를 S3 / 로컬에 저장합니다. \n",
    "\n",
    "데이터 / 이미지가 s3에 있는 배치 예측의 경우 함수에 대한 입력값으로 아래 정보를 제공하세요.\n",
    "  1. model_version = 모델 버전을 입력하거나 기본값인 모델 버전 1을 사용합니다. \n",
    "  2. input_bucket = 입력 이미지 (정상 / 이상치 예측이 필요한)가 있는 입력 버킷 이름입니다.\n",
    "  3. input_prefix = 입력 이미지가 있는 s3 경로의 폴더 이름 / 키 값 (필요하다면). 이 경우 예제에서 언급한대로 끝에 슬래시 (\"/\")를 넣어야합니다. \n",
    "  4. output_bucket = 예측 결과를 json 파일에 저장할 출력 버킷 이름입니다. 출력 json 파일의 이름은 image_name.json이 됩니다. \n",
    "  5. output_prefix = 예측 출력 파일을 저장할 s3 경로의 폴더 이름 / 키 값 (필요하다면). 이 경우 예제에서 언급한대로 끝에 슬래시 (\"/\")를 입력했는지 확인하세요.\n",
    "  6. content_type = \"image/jpeg\"\n"
   ]
  },
  {
   "cell_type": "code",
   "execution_count": 24,
   "metadata": {},
   "outputs": [],
   "source": [
    "upload_directory(s3_client, \"circuitboard/extra_images\", input_bucket, s3_path=input_prefix)"
   ]
  },
  {
   "cell_type": "code",
   "execution_count": 25,
   "metadata": {},
   "outputs": [],
   "source": [
    "_ = l4v.batch_predict(\n",
    "    model_version=model_version\n",
    "    , input_bucket=input_bucket\n",
    "    , input_prefix=input_prefix \n",
    "    , output_bucket=output_bucket\n",
    "    , output_prefix=output_prefix \n",
    "    , content_type=\"image/jpeg\")"
   ]
  },
  {
   "cell_type": "markdown",
   "metadata": {},
   "source": [
    "데이터 / 이미지가 로컬에 있는 배치 예측의 경우 함수에 대한 입력값으로 아래 정보를 제공하세요.\n",
    "\n",
    "1. model_version = 모델 버전을 입력하거나 기본값으로 모델 버전 1을 사용합니다. \n",
    "2. local_path = 입력 이미지 (정상 / 이상치 예측이 필요한)가 있는 로컬 경로.\n",
    "3. content_type = \"image / jpeg\""
   ]
  },
  {
   "cell_type": "code",
   "execution_count": 26,
   "metadata": {},
   "outputs": [],
   "source": [
    "predicted = l4v._batch_predict_local(\n",
    "    local_path=\"circuitboard/extra_images\"\n",
    "    , model_version=model_version\n",
    "    , content_type=\"image/jpeg\")"
   ]
  },
  {
   "cell_type": "code",
   "execution_count": 27,
   "metadata": {},
   "outputs": [
    {
     "data": {
      "text/html": [
       "<div>\n",
       "<style scoped>\n",
       "    .dataframe tbody tr th:only-of-type {\n",
       "        vertical-align: middle;\n",
       "    }\n",
       "\n",
       "    .dataframe tbody tr th {\n",
       "        vertical-align: top;\n",
       "    }\n",
       "\n",
       "    .dataframe thead th {\n",
       "        text-align: right;\n",
       "    }\n",
       "</style>\n",
       "<table border=\"1\" class=\"dataframe\">\n",
       "  <thead>\n",
       "    <tr style=\"text-align: right;\">\n",
       "      <th></th>\n",
       "      <th>IsAnomalous</th>\n",
       "      <th>Confidence</th>\n",
       "      <th>Source.Type</th>\n",
       "    </tr>\n",
       "  </thead>\n",
       "  <tbody>\n",
       "    <tr>\n",
       "      <th>0</th>\n",
       "      <td>True</td>\n",
       "      <td>0.973909</td>\n",
       "      <td>direct</td>\n",
       "    </tr>\n",
       "    <tr>\n",
       "      <th>1</th>\n",
       "      <td>False</td>\n",
       "      <td>0.551062</td>\n",
       "      <td>direct</td>\n",
       "    </tr>\n",
       "    <tr>\n",
       "      <th>2</th>\n",
       "      <td>False</td>\n",
       "      <td>0.914603</td>\n",
       "      <td>direct</td>\n",
       "    </tr>\n",
       "    <tr>\n",
       "      <th>3</th>\n",
       "      <td>True</td>\n",
       "      <td>0.998862</td>\n",
       "      <td>direct</td>\n",
       "    </tr>\n",
       "    <tr>\n",
       "      <th>4</th>\n",
       "      <td>False</td>\n",
       "      <td>0.311159</td>\n",
       "      <td>direct</td>\n",
       "    </tr>\n",
       "  </tbody>\n",
       "</table>\n",
       "</div>"
      ],
      "text/plain": [
       "   IsAnomalous  Confidence Source.Type\n",
       "0         True    0.973909      direct\n",
       "1        False    0.551062      direct\n",
       "2        False    0.914603      direct\n",
       "3         True    0.998862      direct\n",
       "4        False    0.311159      direct"
      ]
     },
     "execution_count": 27,
     "metadata": {},
     "output_type": "execute_result"
    }
   ],
   "source": [
    "predicted = pd.json_normalize(predicted[\"predicted_result\"])\n",
    "predicted.head()"
   ]
  },
  {
   "cell_type": "markdown",
   "metadata": {},
   "source": [
    "### 실시간으로 예측하려면 아래 입력값으로 predict 메서드를 호출하세요.\n",
    " 1. model_version = 모델 버전을 입력하거나 기본값으로 모델 버전 1을 사용합니다.  \n",
    " 2. local_file = 입력 이미지 (정상 / 이상치 예측이 필요한)가 있는 로컬 경로.\n",
    " 3. bucket = 입력 이미지 (정상 / 이상치 예측이 필요한)가 있는 입력 버킷 이름입니다.\n",
    " 4. key = 이미지의 키 값 (아래 예에 언급된 것처럼 정확한 파일 이름을 포함해야 함)\n",
    " 5. content_type = \"image/jpeg\""
   ]
  },
  {
   "cell_type": "code",
   "execution_count": 28,
   "metadata": {},
   "outputs": [
    {
     "data": {
      "text/plain": [
       "{'Source': {'Type': 'direct'},\n",
       " 'IsAnomalous': True,\n",
       " 'Confidence': 0.9930121898651123}"
      ]
     },
     "execution_count": 28,
     "metadata": {},
     "output_type": "execute_result"
    }
   ],
   "source": [
    "# 이미지가 로컬 경로에 있을 때. 로컬 디렉토리와 파일 명으로 로컬 파일 경로를 변경하십시오.\n",
    "l4v.predict(local_file=\"circuitboard/extra_images/extra_images-anomaly_1.jpg\")"
   ]
  },
  {
   "cell_type": "code",
   "execution_count": 29,
   "metadata": {},
   "outputs": [
    {
     "data": {
      "text/plain": [
       "{'Source': {'Type': 'direct'},\n",
       " 'IsAnomalous': False,\n",
       " 'Confidence': 0.31115949153900146}"
      ]
     },
     "execution_count": 29,
     "metadata": {},
     "output_type": "execute_result"
    }
   ],
   "source": [
    "# 이미지가 로컬 경로에 있을 때. 로컬 디렉토리와 파일 명으로 로컬 파일 경로를 변경하십시오.\n",
    "l4v.predict(local_file=\"circuitboard/extra_images/extra_images-normal_1.jpg\")"
   ]
  },
  {
   "cell_type": "code",
   "execution_count": 30,
   "metadata": {},
   "outputs": [
    {
     "data": {
      "text/plain": [
       "{'Source': {'Type': 'direct'},\n",
       " 'IsAnomalous': False,\n",
       " 'Confidence': 0.41652774810791016}"
      ]
     },
     "execution_count": 30,
     "metadata": {},
     "output_type": "execute_result"
    }
   ],
   "source": [
    "# 이미지가 s3에 있을 때. 키 값과 파일 이름으로 s3 버킷을 변경하세요.\n",
    "l4v.predict(\n",
    "    bucket=input_bucket\n",
    "    , key=input_prefix + \"extra_images-anomaly_2.jpg\")"
   ]
  },
  {
   "cell_type": "markdown",
   "metadata": {},
   "source": [
    "### 동일한 프로젝트의 모델을 재교육하려면 다음 단계를 따라야합니다. \n",
    "\n",
    "1. 새로운 이미지로 신규 / 업데이트된 Manifest 파일 생성하기\n",
    "\n",
    "2. 기존 데이터셋 업데이트하기 (훈련과 테스트 모두)\n",
    "\n",
    "3. 업데이트한 데이터셋으로 새로운 버전의 모델 훈련하기 "
   ]
  },
  {
   "cell_type": "code",
   "execution_count": 31,
   "metadata": {},
   "outputs": [],
   "source": [
    "!cp -R circuitboard/extra_images/extra_images-anomaly_*.jpg bad/\n",
    "!cp -R circuitboard/extra_images/extra_images-normal_*.jpg good/"
   ]
  },
  {
   "cell_type": "code",
   "execution_count": 32,
   "metadata": {},
   "outputs": [],
   "source": [
    "input_bucket_new = input_bucket[:-1] + \"2\"\n",
    "_ = s3_client.create_bucket(Bucket=input_bucket_new)"
   ]
  },
  {
   "cell_type": "code",
   "execution_count": 33,
   "metadata": {},
   "outputs": [],
   "source": [
    "## 훈련시킬 최신 입력 이미지에 대한 버킷을 정의한 다음 다음과 같이 Manifest 메서드를 초기화합니다.\n",
    "## 동일한 버킷에 신규 / 업데이트된 이미지가 있는 경우 본 단계는 생략할 수 있습니다. \n",
    "mft_retrain = Manifest(\n",
    "    bucket=input_bucket_new\n",
    "    , s3_path=project_name\n",
    "    , datasets=[\"training\", \"validation\"])"
   ]
  },
  {
   "cell_type": "code",
   "execution_count": 34,
   "metadata": {},
   "outputs": [],
   "source": [
    "# 로컬에 재훈련을 위한 신규 / 업데이트된 이미지가 있는 경우 다음과 같이 동일한 이미지를 s3로 가져올 수 있습니다. \n",
    "_ = img.upload_from_local(\n",
    "    bucket=input_bucket_new\n",
    "    , s3_path=project_name\n",
    "    , train_and_test=True\n",
    "    , test_split=0.5\n",
    "    , prefix=\"\") "
   ]
  },
  {
   "cell_type": "code",
   "execution_count": 35,
   "metadata": {},
   "outputs": [],
   "source": [
    "# 이제 신규 데이터셋에 대한 Manifest 파일을 만듭니다.\n",
    "mft_resp_new = mft_retrain.push_manifests()"
   ]
  },
  {
   "cell_type": "code",
   "execution_count": 36,
   "metadata": {},
   "outputs": [
    {
     "name": "stdout",
     "output_type": "stream",
     "text": [
      "Creating dataset(s): ---!\n"
     ]
    },
    {
     "data": {
      "text/plain": [
       "{'training': {'DatasetType': 'train',\n",
       "  'CreationTimestamp': datetime.datetime(2021, 4, 9, 17, 49, 55, 776000, tzinfo=tzlocal()),\n",
       "  'Status': 'CREATE_COMPLETE',\n",
       "  'StatusMessage': 'Dataset created.'},\n",
       " 'validation': {'DatasetType': 'test',\n",
       "  'CreationTimestamp': datetime.datetime(2021, 4, 9, 17, 49, 56, 353000, tzinfo=tzlocal()),\n",
       "  'Status': 'CREATE_COMPLETE',\n",
       "  'StatusMessage': 'Dataset created.'}}"
      ]
     },
     "execution_count": 36,
     "metadata": {},
     "output_type": "execute_result"
    }
   ],
   "source": [
    "# 새롭게 만든 Manifest 파일로 데이터셋을 업데이트합니다.\n",
    "l4v.update_datasets(mft_resp_new)"
   ]
  },
  {
   "cell_type": "code",
   "execution_count": 37,
   "metadata": {},
   "outputs": [
    {
     "name": "stdout",
     "output_type": "stream",
     "text": [
      "Model training started: ----------------------------------------------!\n"
     ]
    }
   ],
   "source": [
    "# 신규 모델 훈련 생성을 시작합니다. 이번에는 업데이트된 데이터셋이 필요합니다. \n",
    "_ = l4v.fit(output_bucket=input_bucket_new)"
   ]
  },
  {
   "cell_type": "markdown",
   "metadata": {},
   "source": [
    "### 작업을 완료한 다음 모델을 중지하세요.\n",
    "모델 버전을 언급하지 않으면 기본적으로 모델 버전 1이 중지됩니다. "
   ]
  },
  {
   "cell_type": "code",
   "execution_count": 38,
   "metadata": {},
   "outputs": [
    {
     "name": "stdout",
     "output_type": "stream",
     "text": [
      "Stopping model version 1 for project circuitproject\n",
      "Model will be stopped now\n",
      "-----!\n",
      "Your model is now stopped!\n",
      "Status: STOPPING_HOSTING\n"
     ]
    },
    {
     "data": {
      "text/plain": [
       "{'ResponseMetadata': {'RequestId': 'e75ecb3d-1a9e-431d-a0ca-a46eefc3e55a',\n",
       "  'HTTPStatusCode': 202,\n",
       "  'HTTPHeaders': {'x-amzn-requestid': 'e75ecb3d-1a9e-431d-a0ca-a46eefc3e55a',\n",
       "   'x-xss-protection': '1; mode=block',\n",
       "   'strict-transport-security': 'max-age=31540000; includeSubDomains',\n",
       "   'x-frame-options': 'DENY',\n",
       "   'x-content-type-options': 'nosniff',\n",
       "   'date': 'Fri, 09 Apr 2021 09:36:25 GMT',\n",
       "   'content-type': 'application/json',\n",
       "   'content-length': '29'},\n",
       "  'RetryAttempts': 0},\n",
       " 'Status': 'STOPPING_HOSTING'}"
      ]
     },
     "execution_count": 38,
     "metadata": {},
     "output_type": "execute_result"
    }
   ],
   "source": [
    "# 모델 버전을 언급하지 않을 때\n",
    "l4v.stop_model()"
   ]
  },
  {
   "cell_type": "code",
   "execution_count": 39,
   "metadata": {},
   "outputs": [],
   "source": [
    "# 특정 모델 버전을 언급 할 때 \n",
    "# new_model_version = \"2\"\n",
    "# l4v.stop_model(model_version=new_model_version)"
   ]
  },
  {
   "cell_type": "code",
   "execution_count": 40,
   "metadata": {},
   "outputs": [],
   "source": [
    "!rm -rf good && rm -rf bad"
   ]
  }
 ],
 "metadata": {
  "kernelspec": {
   "display_name": "Python 3",
   "language": "python",
   "name": "python3"
  },
  "language_info": {
   "codemirror_mode": {
    "name": "ipython",
    "version": 3
   },
   "file_extension": ".py",
   "mimetype": "text/x-python",
   "name": "python",
   "nbconvert_exporter": "python",
   "pygments_lexer": "ipython3",
   "version": "3.8.5"
  }
 },
 "nbformat": 4,
 "nbformat_minor": 4
}
